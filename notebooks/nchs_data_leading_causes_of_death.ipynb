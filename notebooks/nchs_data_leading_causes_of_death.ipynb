{
 "cells": [
  {
   "cell_type": "code",
   "execution_count": 37,
   "id": "0cde9794",
   "metadata": {},
   "outputs": [],
   "source": [
    "import os\n",
    "from pyspark.sql import SparkSession"
   ]
  },
  {
   "cell_type": "code",
   "execution_count": 38,
   "id": "5322064c",
   "metadata": {},
   "outputs": [],
   "source": [
    "spark = SparkSession.builder.getOrCreate()"
   ]
  },
  {
   "cell_type": "code",
   "execution_count": 39,
   "id": "daae2919",
   "metadata": {},
   "outputs": [],
   "source": [
    "notebook_path = os.getcwd()\n",
    "data_path = notebook_path.replace('notebooks', 'data')"
   ]
  },
  {
   "cell_type": "code",
   "execution_count": 40,
   "id": "dce705c9",
   "metadata": {},
   "outputs": [],
   "source": [
    "csv_file = data_path + \"\\\\nchs_data_leading_causes_of_death\\\\rows_csv.csv\"\n",
    "json_file = data_path + \"\\\\nchs_data_leading_causes_of_death\\\\rows_json.json\""
   ]
  },
  {
   "cell_type": "code",
   "execution_count": 41,
   "id": "b2657da2",
   "metadata": {},
   "outputs": [],
   "source": [
    "df_csv = spark.read.csv(csv_file)\n",
    "df_json = spark.read.json(json_file)"
   ]
  }
 ],
 "metadata": {
  "kernelspec": {
   "display_name": "Python 3",
   "language": "python",
   "name": "python3"
  },
  "language_info": {
   "codemirror_mode": {
    "name": "ipython",
    "version": 3
   },
   "file_extension": ".py",
   "mimetype": "text/x-python",
   "name": "python",
   "nbconvert_exporter": "python",
   "pygments_lexer": "ipython3",
   "version": "3.8.5"
  }
 },
 "nbformat": 4,
 "nbformat_minor": 5
}
